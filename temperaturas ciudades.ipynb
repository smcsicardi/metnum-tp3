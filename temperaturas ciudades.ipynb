{
 "cells": [
  {
   "cell_type": "markdown",
   "metadata": {},
   "source": [
    "# Temperaturas Ciudades"
   ]
  },
  {
   "cell_type": "code",
   "execution_count": 2,
   "metadata": {
    "collapsed": true
   },
   "outputs": [],
   "source": [
    "%matplotlib inline\n",
    "import pandas as pd\n",
    "import matplotlib.pyplot as plt\n",
    "import seaborn as sns\n",
    "import numpy as np\n",
    "from scipy import stats\n",
    "from datetime import datetime\n",
    "from math import *\n",
    "from util import *\n",
    "from dateutil.relativedelta import relativedelta # $ pip install python-dateutil\n",
    "\n",
    "plt.rcParams[\"figure.figsize\"] = (16, 10)"
   ]
  },
  {
   "cell_type": "code",
   "execution_count": 36,
   "metadata": {
    "collapsed": true
   },
   "outputs": [],
   "source": [
    "#ciudades = df.query('city == \"Akron\" | city == \"Cincinnati\"')\n",
    "#ciudad = df.query('city == \"Lincoln\"')\n",
    "\n",
    "#dfjoinCiudades = df.query('city == \"Cincinnati\"').join(df.query('city == \"Akron\"').set_index(\"ordinal\"), on='ordinal', lsuffix='_cin', rsuffix='_akr_')\n",
    "#ciudad = df.query('city == \"Lincoln\"')\n",
    "#df[df[\"date\"] > datetime(1999,1,1)].pivot(\"city\", \"avg\")"
   ]
  },
  {
   "cell_type": "code",
   "execution_count": 76,
   "metadata": {
    "collapsed": true
   },
   "outputs": [],
   "source": [
    "#Genero un dataframe con los xs para pasarle a la funcion\n",
    "def generarDataFrame(df, varList):\n",
    "    listCities = list(set(df['city']))\n",
    "    listCitiesQuery = list(set(df['city']))\n",
    "    for i in range(len(listCitiesQuery)):\n",
    "        listCitiesQuery[i] = '\"' + listCitiesQuery[i] + '\"'\n",
    "\n",
    "    dicCities = {}\n",
    "    for i in range(len(listCities)):\n",
    "        #Genero un nuevo dataframe, calculo el avg anual y elimino las filas duplicadas del año y columna 'avg'\n",
    "        dfCity = pd.DataFrame(df.query('city == ' + listCitiesQuery[i]))\n",
    "        listAvgYr = list(dfCity.groupby('year').apply(lambda x: x.sum()/12)['avg'])\n",
    "        dfCity.drop_duplicates(subset='year', inplace=True)\n",
    "        del dfCity['avg']\n",
    "        dfCity['avg'] = listAvgYr\n",
    "\n",
    "        #Agrego el dataframe a un dic\n",
    "        dicCities[listCities[i]] = dfCity\n",
    "\n",
    "    #Genero un dataframe \n",
    "    yearCol = list(set(df['year']))\n",
    "    dfXs = pd.DataFrame()\n",
    "    for k,v in dicCities.items():\n",
    "        for c in varList:\n",
    "            dfXs[c+ \" \" + k] = list(v[c])\n",
    "    dfXs['year'] = yearCol\n",
    "    \n",
    "    return dfXs"
   ]
  },
  {
   "cell_type": "code",
   "execution_count": 66,
   "metadata": {
    "collapsed": true
   },
   "outputs": [],
   "source": [
    "#LEVANTO DATOS\n",
    "dfWest = pd.read_csv('data/CitiesWestChunk.csv', parse_dates = [0])\n",
    "dfEast = pd.read_csv('data/CitiesEastChunk.csv', parse_dates = [0])\n",
    "dfWest.sort_values(['date','country','city'], inplace = True)\n",
    "dfEast.sort_values(['date','country','city'], inplace = True)\n",
    "\n",
    "#ME QUEDO CON LOS DATOS DE FECHAS COMUNES EN TODAS\n",
    "#Datos de 1849 a 2013\n",
    "minWest = dfWest.groupby(\"city\", as_index=False)[\"date\"].aggregate([\"min\",\"max\"])[\"min\"].aggregate(\"max\")\n",
    "maxWest = dfWest.groupby(\"city\", as_index=False)[\"date\"].aggregate([\"min\",\"max\"])[\"max\"].aggregate(\"min\")\n",
    "minEast = dfEast.groupby(\"city\", as_index=False)[\"date\"].aggregate([\"min\",\"max\"])[\"min\"].aggregate(\"max\")\n",
    "maxEast = dfEast.groupby(\"city\", as_index=False)[\"date\"].aggregate([\"min\",\"max\"])[\"max\"].aggregate(\"min\")\n",
    "#print(\"West (min,max): \", (startWest, endWest))\n",
    "#print(\"East (min,max): \", (startEast, endEast))\n",
    "minTotal = max(minWest, minEast)\n",
    "maxTotal = min(maxWest, maxWest)\n",
    "#print(\"minTotal: \", minTotal)\n",
    "#print(\"maxTotal: \", maxTotal)\n",
    "dfWest = dfWest[dfWest['date'] >= minTotal]\n",
    "dfWest = dfWest[dfWest['date'] < maxTotal]\n",
    "dfEast = dfEast[dfEast['date'] >= minTotal]\n",
    "dfEast = dfEast[dfEast['date'] < maxTotal]\n",
    "\n",
    "#dfWest['ordinal']= dfWest['date'].apply(lambda x: x.toordinal())\n",
    "dfWest[\"year\"] = dfWest[\"date\"].apply(lambda d: d.year)\n",
    "#dfEast['ordinal']= dfEast['date'].apply(lambda x: x.toordinal())\n",
    "dfEast[\"year\"] = dfEast[\"date\"].apply(lambda d: d.year)"
   ]
  },
  {
   "cell_type": "code",
   "execution_count": 78,
   "metadata": {
    "scrolled": true
   },
   "outputs": [],
   "source": [
    "listColXs = ['avg', 'altitude']\n",
    "dfWxs = generarDataFrame(dfWest, listColXs)"
   ]
  },
  {
   "cell_type": "code",
   "execution_count": null,
   "metadata": {
    "collapsed": true
   },
   "outputs": [],
   "source": [
    "#predecir por año, NO MES, hay que hacer un average\n",
    "#funcion lineal cabeza, probar otras\n",
    "\n",
    "#me hago un df para un ordinal tener todas las temperaturas de todas las ciudades (altitud tambien?)"
   ]
  }
 ],
 "metadata": {
  "kernelspec": {
   "display_name": "Python 3",
   "language": "python",
   "name": "python3"
  },
  "language_info": {
   "codemirror_mode": {
    "name": "ipython",
    "version": 3
   },
   "file_extension": ".py",
   "mimetype": "text/x-python",
   "name": "python",
   "nbconvert_exporter": "python",
   "pygments_lexer": "ipython3",
   "version": "3.5.2"
  }
 },
 "nbformat": 4,
 "nbformat_minor": 2
}
